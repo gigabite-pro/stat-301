{
 "cells": [
  {
   "cell_type": "markdown",
   "id": "30cebf98-5b8d-4e2c-96ae-50a4d3f5a1ae",
   "metadata": {},
   "source": [
    "# STAT 301 Final Report"
   ]
  },
  {
   "cell_type": "markdown",
   "id": "08aeeba8-6951-4ed0-8087-5e1ba2df6d92",
   "metadata": {},
   "source": [
    "## (2) Methods and Results"
   ]
  },
  {
   "cell_type": "markdown",
   "id": "f3f7f6ee-6a8d-4c4d-b9df-b0f87f00c05c",
   "metadata": {},
   "source": [
    "### a) “Exploratory Data Analysis (EDA)”"
   ]
  },
  {
   "cell_type": "code",
   "execution_count": null,
   "id": "d4518545-7389-4976-82d2-4ad22f45ba56",
   "metadata": {},
   "outputs": [],
   "source": []
  },
  {
   "cell_type": "code",
   "execution_count": null,
   "id": "20388ed3-ef16-481a-9325-c3c2e41eedba",
   "metadata": {},
   "outputs": [],
   "source": [
    "library(tidyverse)\n",
    "library(repr)\n",
    "library(readxl)\n",
    "library(tidymodels)\n",
    "library(dplyr)\n",
    "library(ggplot2)\n",
    "library(cowplot)\n",
    "\n",
    "\n",
    "\n",
    "# Loading in the dataset from Kaggle \n",
    "heart_MH <- read.csv(\"heart.csv\")\n",
    "\n",
    "#Viewing the dataset \n",
    "heart_MH\n",
    "\n",
    "\n",
    "#Checking for missing values \n",
    "missing_MH <- heart_MH |> \n",
    "  summarise(across(everything(), ~ sum(is.na(.x))))\n",
    "missing_MH\n",
    "\n",
    "\n",
    "#Number of rows (observations) within the set \n",
    "nrow(heart_MH)"
   ]
  }
 ],
 "metadata": {
  "kernelspec": {
   "display_name": "R",
   "language": "R",
   "name": "ir"
  },
  "language_info": {
   "codemirror_mode": "r",
   "file_extension": ".r",
   "mimetype": "text/x-r-source",
   "name": "R",
   "pygments_lexer": "r",
   "version": "4.3.3"
  }
 },
 "nbformat": 4,
 "nbformat_minor": 5
}
